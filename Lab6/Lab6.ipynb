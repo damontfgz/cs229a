{
 "cells": [
  {
   "cell_type": "markdown",
   "metadata": {},
   "source": [
    "## Support Vector Machines (Email Spam Classification)"
   ]
  },
  {
   "cell_type": "code",
   "execution_count": 11,
   "metadata": {},
   "outputs": [
    {
     "name": "stdout",
     "output_type": "stream",
     "text": [
      "ans = \n",
      "{\n",
      "  [1,1] = gnuplot\n",
      "}\n"
     ]
    }
   ],
   "source": [
    "#needed to work!\n",
    "available_graphics_toolkits\n",
    "graphics_toolkit('gnuplot')"
   ]
  },
  {
   "cell_type": "code",
   "execution_count": 12,
   "metadata": {},
   "outputs": [
    {
     "name": "stdout",
     "output_type": "stream",
     "text": [
      "\u001b[H\u001b[2J\n",
      "\u001b[H\u001b[2J\n"
     ]
    }
   ],
   "source": [
    "clear ; close all; clc\n",
    "warning (\"off\", \"Octave:broadcast\");\n",
    "warning (\"off\", \"Octave:possible-matlab-short-circuit-operator\");\n",
    "warning (\"off\", \"Octave:divide-by-zero\");"
   ]
  },
  {
   "cell_type": "markdown",
   "metadata": {},
   "source": [
    "## Email Preprocessing"
   ]
  },
  {
   "cell_type": "code",
   "execution_count": 13,
   "metadata": {},
   "outputs": [
    {
     "name": "stdout",
     "output_type": "stream",
     "text": [
      "\n",
      "Preprocessing sample email (emailSample1.txt)\n",
      "\n",
      "==== Processed Email ====\n",
      "\n",
      "anyon know how much it cost to host a web portal well it depend on how mani \n",
      "visitor you re expect thi can be anywher from less than number buck a month \n",
      "to a coupl of dollarnumb you should checkout httpaddr or perhap amazon ecnumb \n",
      "if your run someth big to unsubscrib yourself from thi mail list send an \n",
      "email to emailaddr \n",
      "\n",
      "=========================\n",
      "Word Indices: \n",
      " 86 916 794 1077 883 370 1699 790 1822 1831 883 431 1171 794 1002 1893 1364 592 1676 238 162 89 688 945 1663 1120 1062 1699 375 1162 479 1893 1510 799 1182 1237 810 1895 1440 1547 181 1699 1758 1896 688 1676 992 961 1477 71 530 1699 531\n",
      "\n",
      "\n",
      " 86 916 794 1077 883 370 1699 790 1822 1831 883 431 1171 794 1002 1893 1364 592 1676 238 162 89 688 945 1663 1120 1062 1699 375 1162 479 1893 1510 799 1182 1237 810 1895 1440 1547 181 1699 1758 1896 688 1676 992 961 1477 71 530 1699 531\n"
     ]
    }
   ],
   "source": [
    "fprintf('\\nPreprocessing sample email (emailSample1.txt)\\n');\n",
    "\n",
    "% Extract Features\n",
    "file_contents = readFile('data/emailSample1.txt');\n",
    "word_indices  = processEmail(file_contents);\n",
    "\n",
    "% Print Stats\n",
    "fprintf('Word Indices: \\n');\n",
    "fprintf(' %d', word_indices);\n",
    "fprintf('\\n\\n');"
   ]
  },
  {
   "cell_type": "markdown",
   "metadata": {},
   "source": [
    "## Feature Extraction"
   ]
  },
  {
   "cell_type": "code",
   "execution_count": 15,
   "metadata": {},
   "outputs": [
    {
     "name": "stdout",
     "output_type": "stream",
     "text": [
      "\n",
      "Extracting features from sample email (emailSample1.txt)\n",
      "\n",
      "==== Processed Email ====\n",
      "\n",
      "anyon know how much it cost to host a web portal well it depend on how mani \n",
      "visitor you re expect thi can be anywher from less than number buck a month \n",
      "to a coupl of dollarnumb you should checkout httpaddr or perhap amazon ecnumb \n",
      "if your run someth big to unsubscrib yourself from thi mail list send an \n",
      "email to emailaddr \n",
      "\n",
      "=========================\n",
      "Length of feature vector: 1899\n",
      "Number of non-zero entries: 45\n"
     ]
    }
   ],
   "source": [
    "fprintf('\\nExtracting features from sample email (emailSample1.txt)\\n');\n",
    "\n",
    "% Extract Features\n",
    "file_contents = readFile('data/emailSample1.txt');\n",
    "word_indices  = processEmail(file_contents);\n",
    "features      = emailFeatures(word_indices);\n",
    "\n",
    "% Print Stats\n",
    "fprintf('Length of feature vector: %d\\n', length(features));\n",
    "fprintf('Number of non-zero entries: %d\\n', sum(features > 0));"
   ]
  },
  {
   "cell_type": "markdown",
   "metadata": {},
   "source": [
    "## Train Linear SVM for Spam Classification"
   ]
  },
  {
   "cell_type": "code",
   "execution_count": 16,
   "metadata": {},
   "outputs": [
    {
     "name": "stdout",
     "output_type": "stream",
     "text": [
      "\n",
      "Training Linear SVM (Spam Classification)\n",
      "(this may take 1 to 2 minutes) ...\n",
      "\n",
      "Training ......................................................................\n",
      "...............................................................................\n",
      "...............................................................................\n",
      "...............................................................................\n",
      "........ Done! \n",
      "\n",
      "Training Accuracy: 99.825000\n"
     ]
    }
   ],
   "source": [
    "% Load the Spam Email dataset\n",
    "% You will have X, y in your environment\n",
    "load('data/spamTrain.mat');\n",
    "\n",
    "fprintf('\\nTraining Linear SVM (Spam Classification)\\n')\n",
    "fprintf('(this may take 1 to 2 minutes) ...\\n')\n",
    "\n",
    "C = 0.1;\n",
    "model = svmTrain(X, y, C, @linearKernel);\n",
    "\n",
    "p = svmPredict(model, X);\n",
    "\n",
    "fprintf('Training Accuracy: %f\\n', mean(double(p == y)) * 100);"
   ]
  },
  {
   "cell_type": "markdown",
   "metadata": {},
   "source": [
    "## Test Spam Classification"
   ]
  },
  {
   "cell_type": "code",
   "execution_count": 17,
   "metadata": {},
   "outputs": [
    {
     "name": "stdout",
     "output_type": "stream",
     "text": [
      "\n",
      "Evaluating the trained Linear SVM on a test set ...\n"
     ]
    }
   ],
   "source": [
    "% Load the test dataset\n",
    "% You will have Xtest, ytest in your environment\n",
    "load('data/spamTest.mat');\n",
    "\n",
    "fprintf('\\nEvaluating the trained Linear SVM on a test set ...\\n')\n",
    "\n",
    "p = svmPredict(model, Xtest);"
   ]
  },
  {
   "cell_type": "markdown",
   "metadata": {},
   "source": [
    "## Top Predictors of Spam"
   ]
  },
  {
   "cell_type": "code",
   "execution_count": 18,
   "metadata": {},
   "outputs": [
    {
     "name": "stdout",
     "output_type": "stream",
     "text": [
      "\n",
      "Top predictors of spam: \n",
      " our             (0.499692) \n",
      " click           (0.466633) \n",
      " remov           (0.421531) \n",
      " guarante        (0.385185) \n",
      " visit           (0.373289) \n",
      " basenumb        (0.345230) \n",
      " dollar          (0.330997) \n",
      " will            (0.271667) \n",
      " price           (0.264014) \n",
      " pleas           (0.261643) \n",
      " most            (0.258610) \n",
      " nbsp            (0.255782) \n",
      " lo              (0.250869) \n",
      " ga              (0.246199) \n",
      " hour            (0.238652) \n"
     ]
    }
   ],
   "source": [
    "% Sort the weights and obtin the vocabulary list\n",
    "[weight, idx] = sort(model.w, 'descend');\n",
    "vocabList = getVocabList();\n",
    "\n",
    "fprintf('\\nTop predictors of spam: \\n');\n",
    "for i = 1:15\n",
    "    fprintf(' %-15s (%f) \\n', vocabList{idx(i)}, weight(i));\n",
    "end"
   ]
  }
 ],
 "metadata": {
  "kernelspec": {
   "display_name": "Octave",
   "language": "octave",
   "name": "octave"
  },
  "language_info": {
   "file_extension": ".m",
   "help_links": [
    {
     "text": "GNU Octave",
     "url": "https://www.gnu.org/software/octave/support.html"
    },
    {
     "text": "Octave Kernel",
     "url": "https://github.com/Calysto/octave_kernel"
    },
    {
     "text": "MetaKernel Magics",
     "url": "https://github.com/calysto/metakernel/blob/master/metakernel/magics/README.md"
    }
   ],
   "mimetype": "text/x-octave",
   "name": "octave",
   "version": "4.0.0"
  }
 },
 "nbformat": 4,
 "nbformat_minor": 2
}

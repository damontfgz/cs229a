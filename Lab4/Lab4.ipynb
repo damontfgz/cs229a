{
 "cells": [
  {
   "cell_type": "markdown",
   "metadata": {},
   "source": [
    "# More about Neural Networks"
   ]
  },
  {
   "cell_type": "code",
   "execution_count": 1,
   "metadata": {},
   "outputs": [
    {
     "name": "stdout",
     "output_type": "stream",
     "text": [
      "ans = \n",
      "{\n",
      "  [1,1] = gnuplot\n",
      "}\n"
     ]
    }
   ],
   "source": [
    "#needed to work!\n",
    "available_graphics_toolkits\n",
    "graphics_toolkit('gnuplot')"
   ]
  },
  {
   "cell_type": "code",
   "execution_count": 2,
   "metadata": {},
   "outputs": [
    {
     "name": "stdout",
     "output_type": "stream",
     "text": [
      "\u001b[H\u001b[2J\n",
      "\u001b[H\u001b[2J\n"
     ]
    }
   ],
   "source": [
    "%% Initialization\n",
    "clear ; close all; clc\n",
    "\n",
    "warning (\"off\", \"Octave:broadcast\");\n",
    "warning (\"off\", \"Octave:possible-matlab-short-circuit-operator\");\n",
    "warning (\"off\", \"Octave:divide-by-zero\");"
   ]
  },
  {
   "cell_type": "code",
   "execution_count": 3,
   "metadata": {},
   "outputs": [],
   "source": [
    "%% Setup the parameters you will use for this exercise\n",
    "input_layer_size  = 400;  % 20x20 Input Images of Digits\n",
    "hidden_layer_size = 25;   % 25 hidden units\n",
    "num_labels = 10;          % 10 labels, from 1 to 10   \n",
    "                          % (note that we have mapped \"0\" to label 10)"
   ]
  },
  {
   "cell_type": "markdown",
   "metadata": {},
   "source": [
    "## Loading and Visualizing Data"
   ]
  },
  {
   "cell_type": "code",
   "execution_count": 4,
   "metadata": {},
   "outputs": [
    {
     "name": "stdout",
     "output_type": "stream",
     "text": [
      "Loading and Visualizing Data ...\n"
     ]
    },
    {
     "data": {
      "image/png": "[encoded data removed]",
      "text/plain": [
       "<IPython.core.display.Image object>"
      ]
     },
     "metadata": {},
     "output_type": "display_data"
    }
   ],
   "source": [
    "% Load Training Data\n",
    "fprintf('Loading and Visualizing Data ...\\n')\n",
    "\n",
    "load('data/ex4data1.mat');\n",
    "m = size(X, 1);\n",
    "\n",
    "% Randomly select 100 data points to display\n",
    "sel = randperm(size(X, 1));\n",
    "sel = sel(1:100);\n",
    "\n",
    "displayData(X(sel, :));"
   ]
  },
  {
   "cell_type": "markdown",
   "metadata": {},
   "source": [
    "## Loading Parameters"
   ]
  },
  {
   "cell_type": "code",
   "execution_count": 6,
   "metadata": {},
   "outputs": [
    {
     "name": "stdout",
     "output_type": "stream",
     "text": [
      "\n",
      "Loading Saved Neural Network Parameters ...\n"
     ]
    }
   ],
   "source": [
    "fprintf('\\nLoading Saved Neural Network Parameters ...\\n')\n",
    "\n",
    "% Load the weights into variables Theta1 and Theta2\n",
    "load('data/ex4weights.mat');\n",
    "\n",
    "% Unroll parameters \n",
    "nn_params = [Theta1(:) ; Theta2(:)];"
   ]
  },
  {
   "cell_type": "markdown",
   "metadata": {},
   "source": [
    "## Feedforward"
   ]
  },
  {
   "cell_type": "code",
   "execution_count": 7,
   "metadata": {},
   "outputs": [
    {
     "name": "stdout",
     "output_type": "stream",
     "text": [
      "\n",
      "Feedforward Using Neural Network ...\n",
      "Cost at parameters (loaded from ex4weights): 0.287629 \n",
      "(this value should be about 0.287629)\n"
     ]
    }
   ],
   "source": [
    "fprintf('\\nFeedforward Using Neural Network ...\\n')\n",
    "\n",
    "% Weight regularization parameter (we set this to 0 here).\n",
    "lambda = 0;\n",
    "\n",
    "J = nnCostFunction(nn_params, input_layer_size, hidden_layer_size, ...\n",
    "                   num_labels, X, y, lambda);\n",
    "\n",
    "fprintf(['Cost at parameters (loaded from ex4weights): %f '...\n",
    "         '\\n(this value should be about 0.287629)\\n'], J);"
   ]
  },
  {
   "cell_type": "markdown",
   "metadata": {},
   "source": [
    "#### Regularization"
   ]
  },
  {
   "cell_type": "code",
   "execution_count": 8,
   "metadata": {},
   "outputs": [
    {
     "name": "stdout",
     "output_type": "stream",
     "text": [
      "\n",
      "Checking Cost Function (w/ Regularization) ... \n",
      "Cost at parameters (loaded from ex4weights): 0.383770 \n",
      "(this value should be about 0.383770)\n"
     ]
    }
   ],
   "source": [
    "fprintf('\\nChecking Cost Function (w/ Regularization) ... \\n')\n",
    "\n",
    "% Weight regularization parameter (we set this to 1 here).\n",
    "lambda = 1;\n",
    "\n",
    "J = nnCostFunction(nn_params, input_layer_size, hidden_layer_size, ...\n",
    "                   num_labels, X, y, lambda);\n",
    "\n",
    "fprintf(['Cost at parameters (loaded from ex4weights): %f '...\n",
    "         '\\n(this value should be about 0.383770)\\n'], J);"
   ]
  },
  {
   "cell_type": "markdown",
   "metadata": {},
   "source": [
    "#### Sigmoid Gradient"
   ]
  },
  {
   "cell_type": "code",
   "execution_count": 9,
   "metadata": {},
   "outputs": [
    {
     "name": "stdout",
     "output_type": "stream",
     "text": [
      "\n",
      "Evaluating sigmoid gradient...\n",
      "Sigmoid gradient evaluated at [1 -0.5 0 0.5 1]:\n",
      "  \n",
      "0.196612 0.235004 0.250000 0.235004 0.196612 \n",
      "\n",
      "\n",
      "  0.196612 0.235004 0.250000 0.235004 0.196612 \n"
     ]
    }
   ],
   "source": [
    "fprintf('\\nEvaluating sigmoid gradient...\\n')\n",
    "\n",
    "g = sigmoidGradient([1 -0.5 0 0.5 1]);\n",
    "fprintf('Sigmoid gradient evaluated at [1 -0.5 0 0.5 1]:\\n  ');\n",
    "fprintf('%f ', g);\n",
    "fprintf('\\n\\n');"
   ]
  },
  {
   "cell_type": "markdown",
   "metadata": {},
   "source": [
    "#### Initializing Pameters"
   ]
  },
  {
   "cell_type": "code",
   "execution_count": 10,
   "metadata": {},
   "outputs": [
    {
     "name": "stdout",
     "output_type": "stream",
     "text": [
      "\n",
      "Initializing Neural Network Parameters ...\n"
     ]
    }
   ],
   "source": [
    "fprintf('\\nInitializing Neural Network Parameters ...\\n')\n",
    "\n",
    "initial_Theta1 = randInitializeWeights(input_layer_size, hidden_layer_size);\n",
    "initial_Theta2 = randInitializeWeights(hidden_layer_size, num_labels);\n",
    "\n",
    "% Unroll parameters\n",
    "initial_nn_params = [initial_Theta1(:) ; initial_Theta2(:)];"
   ]
  },
  {
   "cell_type": "markdown",
   "metadata": {},
   "source": [
    "## Backpropagation"
   ]
  },
  {
   "cell_type": "code",
   "execution_count": 12,
   "metadata": {},
   "outputs": [
    {
     "name": "stdout",
     "output_type": "stream",
     "text": [
      "\n",
      "Checking Backpropagation... \n",
      "  -9.2783e-03  -9.2783e-03\n",
      "   8.8991e-03   8.8991e-03\n",
      "  -8.3601e-03  -8.3601e-03\n",
      "   7.6281e-03   7.6281e-03\n",
      "  -6.7480e-03  -6.7480e-03\n",
      "  -3.0498e-06  -3.0498e-06\n",
      "   1.4287e-05   1.4287e-05\n",
      "  -2.5938e-05  -2.5938e-05\n",
      "   3.6988e-05   3.6988e-05\n",
      "  -4.6876e-05  -4.6876e-05\n",
      "  -1.7506e-04  -1.7506e-04\n",
      "   2.3315e-04   2.3315e-04\n",
      "  -2.8747e-04  -2.8747e-04\n",
      "   3.3532e-04   3.3532e-04\n",
      "  -3.7622e-04  -3.7622e-04\n",
      "  -9.6266e-05  -9.6266e-05\n",
      "   1.1798e-04   1.1798e-04\n",
      "  -1.3715e-04  -1.3715e-04\n",
      "   1.5325e-04   1.5325e-04\n",
      "  -1.6656e-04  -1.6656e-04\n",
      "   3.1454e-01   3.1454e-01\n",
      "   1.1106e-01   1.1106e-01\n",
      "   9.7401e-02   9.7401e-02\n",
      "   1.6409e-01   1.6409e-01\n",
      "   5.7574e-02   5.7574e-02\n",
      "   5.0458e-02   5.0458e-02\n",
      "   1.6457e-01   1.6457e-01\n",
      "   5.7787e-02   5.7787e-02\n",
      "   5.0753e-02   5.0753e-02\n",
      "   1.5834e-01   1.5834e-01\n",
      "   5.5924e-02   5.5924e-02\n",
      "   4.9162e-02   4.9162e-02\n",
      "   1.5113e-01   1.5113e-01\n",
      "   5.3697e-02   5.3697e-02\n",
      "   4.7146e-02   4.7146e-02\n",
      "   1.4957e-01   1.4957e-01\n",
      "   5.3154e-02   5.3154e-02\n",
      "   4.6560e-02   4.6560e-02\n",
      "The above two columns you get should be very similar.\n",
      "(Left-Your Numerical Gradient, Right-Analytical Gradient)\n",
      "\n",
      "If your backpropagation implementation is correct, then \n",
      "the relative difference will be small (less than 1e-9). \n",
      "\n",
      "Relative Difference: 2.33553e-11\n"
     ]
    }
   ],
   "source": [
    "fprintf('\\nChecking Backpropagation... \\n');\n",
    "\n",
    "%  Check gradients by running checkNNGradients\n",
    "checkNNGradients;"
   ]
  },
  {
   "cell_type": "markdown",
   "metadata": {},
   "source": [
    "#### Regularization"
   ]
  },
  {
   "cell_type": "code",
   "execution_count": 13,
   "metadata": {},
   "outputs": [
    {
     "name": "stdout",
     "output_type": "stream",
     "text": [
      "\n",
      "Checking Backpropagation (w/ Regularization) ... \n",
      "  -9.2783e-03  -9.2783e-03\n",
      "   8.8991e-03   8.8991e-03\n",
      "  -8.3601e-03  -8.3601e-03\n",
      "   7.6281e-03   7.6281e-03\n",
      "  -6.7480e-03  -6.7480e-03\n",
      "  -1.6768e-02  -1.6768e-02\n",
      "   3.9433e-02   3.9433e-02\n",
      "   5.9336e-02   5.9336e-02\n",
      "   2.4764e-02   2.4764e-02\n",
      "  -3.2688e-02  -3.2688e-02\n",
      "  -6.0174e-02  -6.0174e-02\n",
      "  -3.1961e-02  -3.1961e-02\n",
      "   2.4923e-02   2.4923e-02\n",
      "   5.9772e-02   5.9772e-02\n",
      "   3.8641e-02   3.8641e-02\n",
      "  -1.7370e-02  -1.7370e-02\n",
      "  -5.7566e-02  -5.7566e-02\n",
      "  -4.5196e-02  -4.5196e-02\n",
      "   9.1459e-03   9.1459e-03\n",
      "   5.4610e-02   5.4610e-02\n",
      "   3.1454e-01   3.1454e-01\n",
      "   1.1106e-01   1.1106e-01\n",
      "   9.7401e-02   9.7401e-02\n",
      "   1.1868e-01   1.1868e-01\n",
      "   3.8193e-05   3.8193e-05\n",
      "   3.3693e-02   3.3693e-02\n",
      "   2.0399e-01   2.0399e-01\n",
      "   1.1715e-01   1.1715e-01\n",
      "   7.5480e-02   7.5480e-02\n",
      "   1.2570e-01   1.2570e-01\n",
      "  -4.0759e-03  -4.0759e-03\n",
      "   1.6968e-02   1.6968e-02\n",
      "   1.7634e-01   1.7634e-01\n",
      "   1.1313e-01   1.1313e-01\n",
      "   8.6163e-02   8.6163e-02\n",
      "   1.3229e-01   1.3229e-01\n",
      "  -4.5296e-03  -4.5296e-03\n",
      "   1.5005e-03   1.5005e-03\n",
      "The above two columns you get should be very similar.\n",
      "(Left-Your Numerical Gradient, Right-Analytical Gradient)\n",
      "\n",
      "If your backpropagation implementation is correct, then \n",
      "the relative difference will be small (less than 1e-9). \n",
      "\n",
      "Relative Difference: 2.25401e-11\n",
      "\n",
      "\n",
      "Cost at (fixed) debugging parameters (w/ lambda = 10): 0.576051 \n",
      "(this value should be about 0.576051)\n",
      "\n"
     ]
    }
   ],
   "source": [
    "fprintf('\\nChecking Backpropagation (w/ Regularization) ... \\n')\n",
    "\n",
    "%  Check gradients by running checkNNGradients\n",
    "lambda = 3;\n",
    "checkNNGradients(lambda);\n",
    "\n",
    "% Also output the costFunction debugging values\n",
    "debug_J  = nnCostFunction(nn_params, input_layer_size, ...\n",
    "                          hidden_layer_size, num_labels, X, y, lambda);\n",
    "\n",
    "fprintf(['\\n\\nCost at (fixed) debugging parameters (w/ lambda = 10): %f ' ...\n",
    "         '\\n(this value should be about 0.576051)\\n\\n'], debug_J);"
   ]
  },
  {
   "cell_type": "markdown",
   "metadata": {},
   "source": [
    "## Training"
   ]
  },
  {
   "cell_type": "code",
   "execution_count": 15,
   "metadata": {},
   "outputs": [
    {
     "name": "stdout",
     "output_type": "stream",
     "text": [
      "\n",
      "Training Neural Network... \n",
      "Iteration     1 | Cost: 3.938153e+00\r",
      "Iteration     2 | Cost: 3.219560e+00\r",
      "Iteration     3 | Cost: 3.159101e+00\r",
      "Iteration     4 | Cost: 2.852606e+00\r",
      "Iteration     5 | Cost: 2.521503e+00\r",
      "Iteration     6 | Cost: 2.413620e+00\r",
      "Iteration     7 | Cost: 2.227959e+00\r",
      "Iteration     8 | Cost: 1.748469e+00\r",
      "Iteration     9 | Cost: 1.559173e+00\r",
      "Iteration    10 | Cost: 1.314962e+00\r",
      "Iteration    11 | Cost: 1.192227e+00\r",
      "Iteration    12 | Cost: 1.141606e+00\r",
      "Iteration    13 | Cost: 1.088091e+00\r",
      "Iteration    14 | Cost: 1.013220e+00\r",
      "Iteration    15 | Cost: 9.933907e-01\r",
      "Iteration    16 | Cost: 9.490634e-01\r",
      "Iteration    17 | Cost: 8.860086e-01\r",
      "Iteration    18 | Cost: 8.617396e-01\r",
      "Iteration    19 | Cost: 8.374604e-01\r",
      "Iteration    20 | Cost: 8.091948e-01\r",
      "Iteration    21 | Cost: 7.945992e-01\r",
      "Iteration    22 | Cost: 7.903078e-01\r",
      "Iteration    23 | Cost: 7.639535e-01\r",
      "Iteration    24 | Cost: 7.470981e-01\r",
      "Iteration    25 | Cost: 7.403056e-01\r",
      "Iteration    26 | Cost: 7.184943e-01\r",
      "Iteration    27 | Cost: 7.106338e-01\r",
      "Iteration    28 | Cost: 7.045977e-01\r",
      "Iteration    29 | Cost: 6.777058e-01\r",
      "Iteration    30 | Cost: 6.484068e-01\r",
      "Iteration    31 | Cost: 6.304045e-01\r",
      "Iteration    32 | Cost: 6.243259e-01\r",
      "Iteration    33 | Cost: 6.125990e-01\r",
      "Iteration    34 | Cost: 6.066823e-01\r",
      "Iteration    35 | Cost: 6.030942e-01\r",
      "Iteration    36 | Cost: 5.953699e-01\r",
      "Iteration    37 | Cost: 5.739291e-01\r",
      "Iteration    38 | Cost: 5.697737e-01\r",
      "Iteration    39 | Cost: 5.639952e-01\r",
      "Iteration    40 | Cost: 5.593880e-01\r",
      "Iteration    41 | Cost: 5.548461e-01\r",
      "Iteration    42 | Cost: 5.393512e-01\r",
      "Iteration    43 | Cost: 5.230763e-01\r",
      "Iteration    44 | Cost: 5.117401e-01\r",
      "Iteration    45 | Cost: 5.029883e-01\r",
      "Iteration    46 | Cost: 4.760978e-01\r",
      "Iteration    47 | Cost: 4.599952e-01\r",
      "Iteration    48 | Cost: 4.552975e-01\r",
      "Iteration    49 | Cost: 4.507987e-01\r",
      "Iteration    50 | Cost: 4.481287e-01\r\n"
     ]
    }
   ],
   "source": [
    "fprintf('\\nTraining Neural Network... \\n')\n",
    "\n",
    "%  After you have completed the assignment, change the MaxIter to a larger\n",
    "%  value to see how more training helps.\n",
    "options = optimset('MaxIter', 50);\n",
    "%options = optimset('MaxIter', 400);\n",
    "\n",
    "%  You should also try different values of lambda\n",
    "lambda = 1;\n",
    "\n",
    "% Create \"short hand\" for the cost function to be minimized\n",
    "costFunction = @(p) nnCostFunction(p, ...\n",
    "                                   input_layer_size, ...\n",
    "                                   hidden_layer_size, ...\n",
    "                                   num_labels, X, y, lambda);\n",
    "\n",
    "% Now, costFunction is a function that takes in only one argument (the\n",
    "% neural network parameters)\n",
    "[nn_params, cost] = fmincg(costFunction, initial_nn_params, options);\n",
    "\n",
    "% Obtain Theta1 and Theta2 back from nn_params\n",
    "Theta1 = reshape(nn_params(1:hidden_layer_size * (input_layer_size + 1)), ...\n",
    "                 hidden_layer_size, (input_layer_size + 1));\n",
    "\n",
    "Theta2 = reshape(nn_params((1 + (hidden_layer_size * (input_layer_size + 1))):end), ...\n",
    "                 num_labels, (hidden_layer_size + 1));"
   ]
  },
  {
   "cell_type": "markdown",
   "metadata": {},
   "source": [
    "## Visualize the Weights"
   ]
  },
  {
   "cell_type": "code",
   "execution_count": 17,
   "metadata": {},
   "outputs": [
    {
     "name": "stdout",
     "output_type": "stream",
     "text": [
      "\n",
      "Visualizing Neural Network... \n"
     ]
    },
    {
     "data": {
      "image/png": "[encoded data removed]",
      "text/plain": [
       "<IPython.core.display.Image object>"
      ]
     },
     "metadata": {},
     "output_type": "display_data"
    }
   ],
   "source": [
    "fprintf('\\nVisualizing Neural Network... \\n')\n",
    "figure('Position',[startx,starty,width,height]);\n",
    "displayData(Theta1(:, 2:end));"
   ]
  },
  {
   "cell_type": "markdown",
   "metadata": {},
   "source": [
    "## Predict"
   ]
  },
  {
   "cell_type": "code",
   "execution_count": 18,
   "metadata": {},
   "outputs": [
    {
     "name": "stdout",
     "output_type": "stream",
     "text": [
      "\n",
      "Training Set Accuracy: 95.720000\n"
     ]
    }
   ],
   "source": [
    "pred = predict(Theta1, Theta2, X);\n",
    "\n",
    "fprintf('\\nTraining Set Accuracy: %f\\n', mean(double(pred == y)) * 100);"
   ]
  },
  {
   "cell_type": "code",
   "execution_count": null,
   "metadata": {},
   "outputs": [],
   "source": []
  }
 ],
 "metadata": {
  "kernelspec": {
   "display_name": "Octave",
   "language": "octave",
   "name": "octave"
  },
  "language_info": {
   "file_extension": ".m",
   "help_links": [
    {
     "text": "GNU Octave",
     "url": "https://www.gnu.org/software/octave/support.html"
    },
    {
     "text": "Octave Kernel",
     "url": "https://github.com/Calysto/octave_kernel"
    },
    {
     "text": "MetaKernel Magics",
     "url": "https://github.com/calysto/metakernel/blob/master/metakernel/magics/README.md"
    }
   ],
   "mimetype": "text/x-octave",
   "name": "octave",
   "version": "4.0.0"
  }
 },
 "nbformat": 4,
 "nbformat_minor": 2
}
